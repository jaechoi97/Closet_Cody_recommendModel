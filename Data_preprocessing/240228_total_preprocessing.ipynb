{
 "cells": [
  {
   "cell_type": "code",
   "execution_count": 1,
   "metadata": {},
   "outputs": [],
   "source": [
    "import pandas as pd\n",
    "# 파일 경로\n",
    "dataset_path = \"csv_folder/b001002.csv\"\n",
    "\n",
    "# CSV 파일을 데이터프레임으로 읽기\n",
    "df_1 = pd.read_csv(dataset_path)"
   ]
  },
  {
   "cell_type": "markdown",
   "metadata": {},
   "source": [
    "# 두께,시즌,패션시즌,성별"
   ]
  },
  {
   "cell_type": "markdown",
   "metadata": {},
   "source": [
    "# 두께 thickness"
   ]
  },
  {
   "cell_type": "code",
   "execution_count": 20,
   "metadata": {},
   "outputs": [
    {
     "data": {
      "text/plain": [
       "약간 얇음, 보통    389\n",
       "보통            80\n",
       "약간 얇음         10\n",
       "얇음             5\n",
       "얇음, 약간 얇음      2\n",
       "약간 두꺼움         2\n",
       "Name: thickness, dtype: int64"
      ]
     },
     "execution_count": 20,
     "metadata": {},
     "output_type": "execute_result"
    }
   ],
   "source": [
    "df_2 = df_1.copy()\n",
    "\n",
    "# 각 패턴에 대해 ',' 추가\n",
    "df_2['thickness'] = df_2['thickness'].replace({\n",
    "    '약간 얇음  보통': '약간 얇음, 보통',\n",
    "    '보통  약간 두꺼움': '보통, 약간 두꺼움',\n",
    "    '약간 두꺼움  두꺼움': '약간 두꺼움, 두꺼움',\n",
    "    '얇음  약간 얇음': '얇음, 약간 얇음',\n",
    "    '얇음  약간 얇음  보통': '얇음, 약간 얇음, 보통',\n",
    "    '약간 얇음  보통  약간 두꺼움': '약간 얇음, 보통, 약간 두꺼움',\n",
    "    '얇음  약간 얇음  보통  약간 두꺼움  두꺼움': '얇음, 약간 얇음, 보통, 약간 두꺼움, 두꺼움',\n",
    "    '보통  약간 두꺼움  두꺼움': '보통, 약간 두꺼움, 두꺼움'\n",
    "})\n",
    "\n",
    "# 결과 확인\n",
    "df_2['thickness'].isnull().sum()\n",
    "df_2['thickness'].value_counts()"
   ]
  },
  {
   "cell_type": "code",
   "execution_count": 21,
   "metadata": {},
   "outputs": [
    {
     "name": "stdout",
     "output_type": "stream",
     "text": [
      "Series([], Name: category_small_name, dtype: object)\n",
      "Empty DataFrame\n",
      "Columns: [product_code, hashtag, material, color, transparency, thickness, fashion_season, gender, season, category_small_code, product_name, product_img_url, brand_name, category_big_name, category_big_code, category_small_name, category_small_page_count]\n",
      "Index: []\n",
      "약간 얇음, 보통    389\n",
      "보통            80\n",
      "약간 얇음         10\n",
      "얇음             5\n",
      "얇음, 약간 얇음      2\n",
      "약간 두꺼움         2\n",
      "Name: thickness, dtype: int64\n"
     ]
    }
   ],
   "source": [
    "# 'fashion_season'이 None인 행의 'category_small_name' 확인\n",
    "none_category_small_name = df_2[df_2['thickness'] == 'None']['category_small_name']\n",
    "print(none_category_small_name)\n",
    "# 'category_small_name'이 '셔츠/블라우스'이면서 'fashion_season'이 'None'인 행 출력\n",
    "none_values_rows = df_2[(df_2['category_small_name'] == '셔츠/블라우스') & (df_2['thickness'] == 'None')]\n",
    "print(none_values_rows)\n",
    "# 'None'을 'ALL'로 대체\n",
    "df_2['thickness'] = df_2['thickness'].replace('None', '약간 얇음, 보통')\n",
    "df_2['thickness'].value_counts()\n",
    "import pandas as pd\n",
    "\n",
    "# '보통' 값이 가장 많은 비율 계산\n",
    "total_count = df_2['thickness'].value_counts().sum()\n",
    "normal_count = df_2['thickness'].value_counts()['보통']\n",
    "\n",
    "# 결측치에 비율 적용하여 채우기\n",
    "df_2['thickness'] = df_2['thickness'].apply(lambda x: '보통' if pd.isnull(x) else x)\n",
    "\n",
    "# limit이 0보다 큰 경우에만 채우기\n",
    "limit_value = int(df_2['thickness'].isnull().sum() * (normal_count / total_count))\n",
    "if limit_value > 0:\n",
    "    df_2['thickness'] = df_2['thickness'].fillna('약간 얇음, 보통', limit=limit_value)\n",
    "\n",
    "# 결과 확인\n",
    "print(df_2['thickness'].value_counts())"
   ]
  },
  {
   "cell_type": "markdown",
   "metadata": {},
   "source": [
    "# 성별 gender"
   ]
  },
  {
   "cell_type": "code",
   "execution_count": 22,
   "metadata": {},
   "outputs": [
    {
     "data": {
      "text/plain": [
       "남성      243\n",
       "여성      171\n",
       "남여공용     67\n",
       "키즈        7\n",
       "Name: gender, dtype: int64"
      ]
     },
     "execution_count": 22,
     "metadata": {},
     "output_type": "execute_result"
    }
   ],
   "source": [
    "df_3 = df_2.copy()\n",
    "\n",
    "\n",
    "\n",
    "# 결측치 제거\n",
    "df_3 = df_3.dropna(subset=['gender'])\n",
    "\n",
    "# 값을 변환\n",
    "df_3['gender'] = df_3['gender'].replace({'남성  여성': '남여공용', '상품구분  병행수입': '병행수입', 'None': '남여공용'})\n",
    "\n",
    "# 결과 확인\n",
    "df_3['gender'].isnull().sum()\n",
    "\n",
    "df_3['gender'].value_counts()"
   ]
  },
  {
   "cell_type": "markdown",
   "metadata": {},
   "source": [
    "# 시즌 season"
   ]
  },
  {
   "cell_type": "code",
   "execution_count": 23,
   "metadata": {},
   "outputs": [
    {
     "data": {
      "text/plain": [
       "봄,여름,가을,겨울    398\n",
       "봄,가을           39\n",
       "봄,여름,가을        19\n",
       "봄,가을,겨울        14\n",
       "봄               9\n",
       "봄,여름            8\n",
       "여름,가을           1\n",
       "Name: season, dtype: int64"
      ]
     },
     "execution_count": 23,
     "metadata": {},
     "output_type": "execute_result"
    }
   ],
   "source": [
    "df_4 = df_3.copy()\n",
    "\n",
    "# category_small_name에 대한 season 대표값 설정\n",
    "season_mapping = {\n",
    "    '후드 티셔츠': '봄,가을,겨울',\n",
    "    '반소매 티셔츠': '여름',\n",
    "    '니트/스웨터': '겨울',\n",
    "    '카디건': '봄,가을',\n",
    "    '데님 팬츠': '봄,가을,겨울',\n",
    "    \"하의\" : '봄,여름,가을,겨울',\n",
    "    \"베스트\" : '봄,가을',\n",
    "    \"롱스커트\" : '봄,가을',\n",
    "    \"트레이닝/조거 팬츠\" : '봄,여름,가을,겨울',\n",
    "    \"트러커 재킷\" : '봄,가을',\n",
    "    \"긴소매 티셔츠\" : '봄,가을',\n",
    "    \"민소매 티셔츠\" : '여름',\n",
    "    \"미니스커트\" : '여름',\n",
    "    \"나일론/코치 재킷\" : '봄,가을',\n",
    "    \"블루종/MA-1\" : '봄,가을',\n",
    "    \"코튼 팬츠\" : '봄,여름,가을,겨울',\n",
    "    \"스타디움 재킷\" : '봄,가을',\n",
    "    \"슈트/블레이저 재킷\" : '봄,여름,가을,겨울',\n",
    "    \"미디스커트\" : '여름',\n",
    "    \"기타 상의\" : '봄,여름,가을,겨울',\n",
    "    \"셔츠/블라우스\" : '봄,여름,가을,겨울',\n",
    "    \"기타 아우터\" : '봄,여름,가을,겨울',\n",
    "    \"피케/카라 티셔츠\" : \"봄,여름\",\n",
    "    \"후드 집업\" : \"봄,가을\",\n",
    "    \"겨울 싱글 코트\" : \"겨울\",\n",
    "    \"사파리/헌팅 재킷\" : '가을,겨울',\n",
    "    \"기타 바지\" : '봄,여름,가을,겨울',\n",
    "    \"아우터\" : '봄,가을,겨울',\n",
    "    \"환절기 코트\" : '봄,가을',\n",
    "    \"상의\" : '봄,여름,가을,겨울',\n",
    "    \"맨투맨/스웨트셔츠\" : '봄,가을',\n",
    "    \"미니 원피스\" : '봄,여름',\n",
    "    \"원피스\" : '봄,여름,가을',\n",
    "    \"플리스/뽀글이\" : '가을,겨울',\n",
    "    \"롱패딩/롱헤비 아우터\" :'겨울',\n",
    "    \"숏패딩/숏헤비 아우터\" :'겨울',\n",
    "    \"슈트 팬츠/슬랙스\" : '봄,여름,가을,겨울',\n",
    "    \"패딩 베스트\" : '겨울',\n",
    "    \"상하의세트\" : '봄,여름,가을,겨울',\n",
    "    \"겨울 기타 코트\" : '겨울',\n",
    "    \"미디 원피스\" : '봄,여름,가을',\n",
    "    \"트레이닝 재킷\" : '봄,가을',\n",
    "    \"겨울 더블 코트\" :'겨울',\n",
    "    \"레깅스\" : '봄,여름,가을,겨울',\n",
    "    \"스커트\" : '봄,여름,가을,겨울',\n",
    "    \"점프 슈트/오버올\" : '가을,겨울'\n",
    "}\n",
    "\n",
    "# category_small_name을 기반으로 season 결측치 채우기\n",
    "df_4['season'] = df_4['season'].fillna(df_4['category_small_name'].map(season_mapping))\n",
    "df_4['season'].isnull().sum()\n",
    "df_4['season'].value_counts()\n",
    "# 'season' 열의 값을 조건에 맞게 수정\n",
    "df_4['season'] = df_4['season'].replace({'봄  여름  가을  겨울': '봄,여름,가을,겨울',\n",
    "                                         '봄  가을  겨울': '봄,가을,겨울',\n",
    "                                         '가을  겨울': '가을,겨울',\n",
    "                                         '봄  여름  가을  겨울': '봄,여름,가을,겨울',\n",
    "                                         '봄  여름  가을': '봄,여름,가을',\n",
    "                                         '봄  가을': '봄,가을',\n",
    "                                         '가을  겨울': '가을,겨울',\n",
    "                                         '봄  여름': '봄,여름',\n",
    "                                         '여름  가을': '여름,가을',\n",
    "                                         '여름  가을  겨울': '여름,가을,겨울',\n",
    "                                         '봄  겨울': '봄,겨울',\n",
    "                                         '여름  가을  겨울': '여름,가을,겨울',\n",
    "                                         '봄  여름  겨울': '봄,여름,겨울'})\n",
    "\n",
    "# 'season' 열의 값을 조건에 맞게 수정\n",
    "df_4['season'] = df_4['season'].replace({'None': '봄,여름,가을,겨울'})\n",
    "\n",
    "\n",
    "# \"봄, 여름, 가을, 겨울\"에 해당하는 값들을 '봄,여름,가을,겨울'로 설정\n",
    "df_4.loc[df_4['season'].isnull(), 'season'] = '봄,여름,가을,겨울'\n",
    "\n",
    "# 결과 확인\n",
    "df_4['season'].isnull().sum()\n",
    "df_4['season'].value_counts()"
   ]
  },
  {
   "cell_type": "markdown",
   "metadata": {},
   "source": [
    "# 패션시즌 fashion_season"
   ]
  },
  {
   "cell_type": "code",
   "execution_count": 24,
   "metadata": {},
   "outputs": [
    {
     "name": "stdout",
     "output_type": "stream",
     "text": [
      "Series([], Name: category_small_name, dtype: object)\n",
      "Empty DataFrame\n",
      "Columns: [product_code, hashtag, material, color, transparency, thickness, fashion_season, gender, season, category_small_code, product_name, product_img_url, brand_name, category_big_name, category_big_code, category_small_name, category_small_page_count]\n",
      "Index: []\n",
      "ALL    265\n",
      "S/S    178\n",
      "F/W     45\n",
      "Name: fashion_season, dtype: int64\n"
     ]
    }
   ],
   "source": [
    "df_5 = df_4.copy()\n",
    "\n",
    "df_5['fashion_season'].isnull().sum()\n",
    "df_5['fashion_season'].value_counts()\n",
    "\n",
    "# 'fashion_season' 열의 값을 수정\n",
    "df_5['fashion_season'] = df_5['fashion_season'].str.replace(r'\\d{4}\\s*', '', regex=True)  # 연도 제거\n",
    "df_5['fashion_season'] = df_5['fashion_season'].replace({'ALL ALL': 'ALL', '': None, 'ALL S/S': 'ALL', 'ALL F/W': 'ALL'})  # 'ALL ALL'을 'ALL'로 변경하고, 값이 없는 경우 None으로 변경, 'ALL S/S'와 'ALL F/W'를 'ALL'로 변경\n",
    "\n",
    "# category_small_name 기준으로 fashion_season 결측치 매핑\n",
    "fashion_season_mapping = {\n",
    "    '맨투맨/스웨트셔츠': 'ALL',\n",
    "    '니트/스웨터': 'F/W',\n",
    "    '후드 티셔츠': 'ALL',\n",
    "    '반소매 티셔츠': 'S/S',\n",
    "    '긴소매 티셔츠': 'ALL',\n",
    "    '셔츠/블라우스': 'ALL',\n",
    "    '피케/카라 티셔츠': 'S/S',\n",
    "    '기타 상의': 'ALL',\n",
    "    '스포츠 상의': 'ALL',\n",
    "    '민소매 티셔츠': 'S/S',\n",
    "    '나일론/코치 재킷': 'ALL',\n",
    "    '트러커 재킷': 'ALL',\n",
    "    '스타디움 재킷': 'ALL',\n",
    "    '기타 아우터': 'ALL',\n",
    "    '블루종/MA-1': 'ALL',\n",
    "    '사파리/헌팅 재킷': 'ALL',\n",
    "    '슈트/블레이저 재킷': 'ALL',\n",
    "    '레더/라이더스 재킷': 'ALL',\n",
    "    '아노락 재킷': 'ALL',\n",
    "    '숏패딩/숏헤비 아우터': 'F/W',\n",
    "    '겨울 싱글 코트': 'F/W',\n",
    "    '플리스/뽀글이': 'F/W',\n",
    "    '겨울 기타 코트': 'F/W',\n",
    "    '겨울 더블 코트': 'F/W',\n",
    "    '무스탕/퍼': 'F/W',\n",
    "    '롱패딩/롱헤비 아우터': 'F/W',\n",
    "    '환절기 코트': 'ALL',\n",
    "    '패딩 베스트': 'F/W',\n",
    "    '트레이닝 재킷': 'ALL',\n",
    "    '카디건': 'ALL',\n",
    "    '후드 집업': 'ALL',\n",
    "    '베스트': 'ALL',\n",
    "    '데님 팬츠': 'ALL',\n",
    "    '트레이닝/조거 팬츠': 'ALL',\n",
    "    '코튼 팬츠': 'ALL',\n",
    "    '슈트 팬츠/슬랙스': 'ALL',\n",
    "    '기타 바지': 'ALL',\n",
    "    '스포츠 하의': 'ALL',\n",
    "    '숏 팬츠': 'S/S',\n",
    "    '점프 슈트/오버올': 'ALL',\n",
    "    '레깅스': 'ALL',\n",
    "    '맥시 원피스': 'ALL',\n",
    "    '미니 원피스': 'S/S',\n",
    "    '미디 원피스': 'S/S',\n",
    "    '미니스커트': 'S/S',\n",
    "    '미디스커트': 'S/S',\n",
    "    '롱스커트': 'ALL',\n",
    "    '패션스니커즈화': 'ALL',\n",
    "    '스포츠 스니커즈': 'ALL',\n",
    "    '기타 스니커즈': 'ALL',\n",
    "    '캔버스/단화': 'ALL',\n",
    "    '로퍼': 'ALL',\n",
    "    '힐/펌프스': 'ALL',\n",
    "    '플랫 슈즈': 'ALL',\n",
    "    '기타 신발': 'ALL',\n",
    "    '블로퍼': 'ALL',\n",
    "    '구두': 'ALL',\n",
    "    '모카신/보트 슈즈': 'ALL',\n",
    "    '부츠': 'ALL',\n",
    "    '슬리퍼': 'ALL',\n",
    "    '샌들': 'ALL',\n",
    "    '신발 용품': 'ALL',\n",
    "    '메신저/크로스 백': 'ALL',\n",
    "    '숄더백': 'ALL',\n",
    "    '백팩': 'ALL',\n",
    "    '보스턴/드럼/더플백': 'ALL',\n",
    "    '토트백': 'ALL',\n",
    "    '웨이스트 백': 'ALL',\n",
    "    '에코백': 'ALL',\n",
    "    '브리프케이스': 'ALL',\n",
    "    '클러치 백': 'ALL',\n",
    "    '파우치 백': 'ALL',\n",
    "    '지갑/머니클립': 'ALL',\n",
    "    '가방 소품': 'ALL',\n",
    "    '캐리어': 'ALL',\n",
    "    '숄더백': 'ALL',\n",
    "    '크로스백': 'ALL',\n",
    "    '토트백': 'ALL',\n",
    "    '백팩': 'ALL',\n",
    "    '지갑/머니클립': 'ALL',\n",
    "    '클러치 백': 'ALL',\n",
    "    '웨이스트 백': 'ALL',\n",
    "    '파우치 백': 'ALL',\n",
    "    '가방 소품': 'ALL',\n",
    "    '상의': 'ALL',\n",
    "    '하의': 'ALL',\n",
    "    '아우터': 'ALL',\n",
    "    '상하의세트': 'ALL',\n",
    "    '수영복/비치웨어': 'ALL',\n",
    "    '스포츠잡화': 'ALL',\n",
    "    '스포츠가방': 'ALL',\n",
    "    '기구/용품/장비': 'ALL',\n",
    "    '스포츠신발': 'ALL',\n",
    "    '스포츠모자': 'ALL',\n",
    "    '스커트': 'ALL',\n",
    "    '원피스': 'ALL',\n",
    "    '캠핑용품': 'ALL',\n",
    "    '낚시용품': 'ALL',\n",
    "    '캡/야구 모자': 'ALL',\n",
    "    '비니': 'ALL',\n",
    "    '페도라': 'ALL',\n",
    "    '기타 모자': 'ALL',\n",
    "    '버킷/사파리햇': 'ALL',\n",
    "    '트루퍼': 'ALL',\n",
    "    '헌팅캡/베레모': 'ALL',\n",
    "    '양말': 'ALL',\n",
    "    '스타킹': 'ALL',\n",
    "    '셔츠/블라우스': 'ALL'\n",
    "}\n",
    "\n",
    "# 결측치 채우기\n",
    "df_5['fashion_season'] = df_5['fashion_season'].fillna(df_5['category_small_name'].map(fashion_season_mapping))\n",
    "\n",
    "\n",
    "# 'fashion_season'이 None인 행의 'category_small_name' 확인\n",
    "none_category_small_name = df_5[df_5['fashion_season'] == 'None']['category_small_name']\n",
    "print(none_category_small_name)\n",
    "# 'category_small_name'이 '셔츠/블라우스'이면서 'fashion_season'이 'None'인 행 출력\n",
    "none_values_rows = df_5[(df_5['category_small_name'] == '셔츠/블라우스') & (df_5['fashion_season'] == 'None')]\n",
    "print(none_values_rows)\n",
    "\n",
    "# 'None'을 'ALL'로 대체\n",
    "df_5['fashion_season'] = df_5['fashion_season'].replace('None', 'ALL')\n",
    "# 결과 확인\n",
    "print(df_5['fashion_season'].value_counts())\n"
   ]
  },
  {
   "cell_type": "markdown",
   "metadata": {},
   "source": [
    "# 비침도 transparency"
   ]
  },
  {
   "cell_type": "code",
   "execution_count": 25,
   "metadata": {},
   "outputs": [
    {
     "name": "stdout",
     "output_type": "stream",
     "text": [
      "없음       434\n",
      "보통        39\n",
      "거의 없음     10\n",
      "약간 있음      3\n",
      "있음         2\n",
      "Name: transparency, dtype: int64\n"
     ]
    }
   ],
   "source": [
    "df_6 = df_5.copy()\n",
    "\n",
    "# 결측치 및 \"None\" 값 확인\n",
    "missing_values = df_6['transparency'].isnull() | (df_6['transparency'] == 'None')\n",
    "\n",
    "# 각 값의 비율 계산\n",
    "value_counts = df_6['transparency'][~missing_values].value_counts(normalize=True)\n",
    "\n",
    "# 결측치 및 \"None\" 값을 비율에 따라 채우기\n",
    "df_6['transparency'] = df_6['transparency'].apply(lambda x: value_counts.idxmax() if pd.isnull(x) or x == 'None' else x)\n",
    "\n",
    "# 다시 결측치 확인\n",
    "missing_values = df_6['transparency'].isnull()\n",
    "\n",
    "# 비율에 맞게 결측치 채우기\n",
    "df_6.loc[missing_values, 'transparency'] = df_6.loc[missing_values, 'transparency'].apply(lambda x: value_counts.idxmax() if pd.isnull(x) else x)\n",
    "\n",
    "# 결과 확인\n",
    "print(df_6['transparency'].value_counts())\n"
   ]
  },
  {
   "cell_type": "markdown",
   "metadata": {},
   "source": [
    "# hashtag 해쉬태그"
   ]
  },
  {
   "cell_type": "code",
   "execution_count": 6,
   "metadata": {},
   "outputs": [
    {
     "name": "stderr",
     "output_type": "stream",
     "text": [
      "  0%|          | 0/488 [00:00<?, ?it/s]"
     ]
    },
    {
     "name": "stderr",
     "output_type": "stream",
     "text": [
      "/opt/homebrew/Caskroom/miniforge/base/lib/python3.10/site-packages/pandas/core/indexing.py:1732: SettingWithCopyWarning: \n",
      "A value is trying to be set on a copy of a slice from a DataFrame\n",
      "\n",
      "See the caveats in the documentation: https://pandas.pydata.org/pandas-docs/stable/user_guide/indexing.html#returning-a-view-versus-a-copy\n",
      "  self._setitem_single_block(indexer, value, name)\n",
      "100%|██████████| 488/488 [00:00<00:00, 22091.49it/s]\n"
     ]
    }
   ],
   "source": [
    "from tqdm import tqdm\n",
    "import pandas as pd\n",
    "\n",
    "for i in tqdm(range(df_6.shape[0])):\n",
    "    if str(df_6['hashtag'].iloc[i]) == 'nan':\n",
    "        df_6['hashtag'].iloc[i] = df_6['brand_name'].iloc[i] + ',' + df_6['category_big_name'].iloc[i] + ',' + df_6['category_small_name'].iloc[i]"
   ]
  },
  {
   "cell_type": "markdown",
   "metadata": {},
   "source": [
    "# 소재 material"
   ]
  },
  {
   "cell_type": "code",
   "execution_count": 8,
   "metadata": {},
   "outputs": [
    {
     "name": "stderr",
     "output_type": "stream",
     "text": [
      "  0%|          | 0/488 [00:00<?, ?it/s]"
     ]
    },
    {
     "name": "stderr",
     "output_type": "stream",
     "text": [
      "100%|██████████| 488/488 [00:00<00:00, 14573.20it/s]\n"
     ]
    }
   ],
   "source": [
    "for i in tqdm(range(df_6.shape[0])):\n",
    "    if df_6['category_small_name'].iloc[i] == '셔츠/블라우스' and df_6['material'].iloc[i] == None:\n",
    "        df_6['material'].iloc[i] = 'COTTON 100%'\n",
    "    elif df_6['category_small_name'].iloc[i] == '셔츠/블라우스' and str(df_6['material'].iloc[i]) == '상단표기':\n",
    "        df_6['material'].iloc[i] = 'COTTON 100%'\n",
    "    elif df_6['category_small_name'].iloc[i] == '셔츠/블라우스' and str(df_6['material'].iloc[i]) == '상세설명  참조':\n",
    "        df_6['material'].iloc[i] = 'POLYESTER 100%'\n",
    "    elif df_6['category_small_name'].iloc[i] == '셔츠/블라우스' and str(df_6['material'].iloc[i]) == '면  100%':\n",
    "        df_6['material'].iloc[i] = 'COTTON 100%'\n",
    "    elif df_6['category_small_name'].iloc[i] == '셔츠/블라우스' and df_6['material'].iloc[i].__len__() > 17:\n",
    "        df_6['material'].iloc[i] = 'POLYESTER 100%'"
   ]
  },
  {
   "cell_type": "code",
   "execution_count": 9,
   "metadata": {},
   "outputs": [
    {
     "name": "stdout",
     "output_type": "stream",
     "text": [
      "POLYESTER 100%                 273\n",
      "COTTON 100%                     93\n",
      "상품  상세설명  참조                    19\n",
      "상세  내  기재                        9\n",
      "겉감  COTTON  100                  8\n",
      "상세페이지참조                          8\n",
      "겉감  :  COTTON 100%  100%.        7\n",
      "COTTON  100                      7\n",
      "코튼  100%                         5\n",
      "COTTON 100%100%                  4\n",
      "나일론  100%                        4\n",
      "POLYESTER 100%  100%  %          4\n",
      "POLYESTER 100%  100%             3\n",
      "100%  Cotton                     3\n",
      "Cotton100%                       3\n",
      "겉감:  COTTON 100%  100%.          3\n",
      "100%  레이온                        3\n",
      "COTTON 100%  67%  나일론  33%       2\n",
      "100%  COTTON                     2\n",
      "COTTON 100%-100%                 2\n",
      "95%  코튼  5%  스판덱스                2\n",
      "COTTON 100%100                   2\n",
      "[겉감]  COTTON 100%:100%           2\n",
      "상세설명참조                           1\n",
      "POLYESTER 100%98%  폴리우레탄2%       1\n",
      "겉감:COTTON 100%65 나일론35           1\n",
      "상품상세설명  참조                       1\n",
      "COTTON 100%  54%   텐셀  46%       1\n",
      "상품상세설명참조                         1\n",
      "POLYESTER 100%  :  100%          1\n",
      "100%  Polyester                  1\n",
      "100%  Tencel                     1\n",
      "리넨  100%                         1\n",
      "[겉감]COTTON 100%100%              1\n",
      "겉감  COTTON 100%100%              1\n",
      "레이온  100%                        1\n",
      "100%  COTTON 100%                1\n",
      "100%  Wool                       1\n",
      "95%  COTTON 100%   5%  스판덱스      1\n",
      "겉감:COTTON 100%100                1\n",
      "코튼100%                           1\n",
      "겉감:  POLYESTER 100%  100%        1\n",
      "상세참고                             1\n",
      "Name: material, dtype: int64\n",
      "POLYESTER 100%                 273\n",
      "COTTON 100%                     93\n",
      "상품  상세설명  참조                    19\n",
      "상세  내  기재                        9\n",
      "겉감  COTTON  100                  8\n",
      "상세페이지참조                          8\n",
      "겉감  :  COTTON 100%  100%.        7\n",
      "COTTON  100                      7\n",
      "코튼  100%                         5\n",
      "COTTON 100%100%                  4\n",
      "나일론  100%                        4\n",
      "POLYESTER 100%  100%  %          4\n",
      "POLYESTER 100%  100%             3\n",
      "100%  Cotton                     3\n",
      "Cotton100%                       3\n",
      "겉감:  COTTON 100%  100%.          3\n",
      "100%  레이온                        3\n",
      "COTTON 100%  67%  나일론  33%       2\n",
      "100%  COTTON                     2\n",
      "COTTON 100%-100%                 2\n",
      "95%  코튼  5%  스판덱스                2\n",
      "COTTON 100%100                   2\n",
      "[겉감]  COTTON 100%:100%           2\n",
      "상세설명참조                           1\n",
      "POLYESTER 100%98%  폴리우레탄2%       1\n",
      "겉감:COTTON 100%65 나일론35           1\n",
      "상품상세설명  참조                       1\n",
      "COTTON 100%  54%   텐셀  46%       1\n",
      "상품상세설명참조                         1\n",
      "POLYESTER 100%  :  100%          1\n",
      "100%  Polyester                  1\n",
      "100%  Tencel                     1\n",
      "리넨  100%                         1\n",
      "[겉감]COTTON 100%100%              1\n",
      "겉감  COTTON 100%100%              1\n",
      "레이온  100%                        1\n",
      "100%  COTTON 100%                1\n",
      "100%  Wool                       1\n",
      "95%  COTTON 100%   5%  스판덱스      1\n",
      "겉감:COTTON 100%100                1\n",
      "코튼100%                           1\n",
      "겉감:  POLYESTER 100%  100%        1\n",
      "상세참고                             1\n",
      "Name: material, dtype: int64\n"
     ]
    }
   ],
   "source": [
    "# 'material' 열에서 다양한 표현을 'COTTON 100%'로 통일\n",
    "df_6['material'] = df_6['material'].replace({'COTTON  100%': 'COTTON 100%', 'Cotton  100%': 'COTTON 100%', 'COTTON 100%': 'COTTON 100%'})\n",
    "df_6['material'] = df_6['material'].replace({'100%  코튼': 'COTTON 100%'})\n",
    "\n",
    "# 'material' 열에서 패턴에 따라 값을 변경\n",
    "df_6['material'] = df_6['material'].replace({\n",
    "    'COTTON  100%': 'COTTON 100%',\n",
    "    'Cotton  100%': 'COTTON 100%',\n",
    "    'COTTON 100%': 'COTTON 100%',\n",
    "    '100%  코튼': 'COTTON 100%',\n",
    "    '면|cotton': 'COTTON 100%',\n",
    "    'POLYESTER 100% 100%': 'POLYESTER 100%',  # 수정된 부분\n",
    "    'POLYESTER|폴리에스터': 'POLYESTER 100%',\n",
    "    'None': 'POLYESTER 100%'  # 'None' 값이 'POLYESTER 100%'로 변경됩니다.\n",
    "}, regex=True)\n",
    "\n",
    "# 'material' 열에서 'POLYESTER 100% 100%' 값을 포함하는 행 선택\n",
    "polyester_100_rows = df_6['material'].str.contains('POLYESTER 100% 100%', na=False)\n",
    "\n",
    "# 선택된 행에서 'POLYESTER 100% 100%'를 'POLYESTER 100%'로 대체\n",
    "df_6.loc[polyester_100_rows, 'material'] = df_6.loc[polyester_100_rows, 'material'].str.replace('POLYESTER 100% 100%', 'POLYESTER 100%')\n",
    "\n",
    "# 결과 확인\n",
    "print(df_6['material'].value_counts())\n",
    "\n",
    "# 결과 확인\n",
    "print(df_6['material'].value_counts())\n"
   ]
  },
  {
   "cell_type": "markdown",
   "metadata": {},
   "source": [
    "# 색상 color"
   ]
  },
  {
   "cell_type": "code",
   "execution_count": 11,
   "metadata": {},
   "outputs": [],
   "source": [
    "import pandas as pd\n",
    "\n",
    "# 'color' 열에서 '상세'를 포함하는 값들을 필터링하여 출력\n",
    "df_detail = df_6[df_6['color'].str.contains('상세|KC인증', na=False)]\n",
    "\n",
    "# df_detail에 해당하는 고유한 값들을 데이터프레임으로 변환\n",
    "df_detail_values = pd.DataFrame(df_detail['color'].unique(), columns=['color'])\n",
    "\n",
    "# detail_values에서 제외할 값들\n",
    "excluded_values = ['BEIGE', 'BLACK', 'CHARCOAL', 'BROWN', 'KHAKI']\n",
    "\n",
    "# 제외할 값들을 포함하는 행을 제외한 나머지 값을 추출하여 데이터프레임 생성\n",
    "filtered_df_detail_values = df_detail_values[~df_detail_values['color'].str.contains('|'.join(excluded_values))]\n",
    "\n",
    "for value in filtered_df_detail_values['color']:\n",
    "    df_6.loc[df_6['color'] == value, 'color'] = 'NONE'"
   ]
  },
  {
   "cell_type": "code",
   "execution_count": 12,
   "metadata": {},
   "outputs": [],
   "source": [
    "df_6['color'] = df_6['color'].str.replace('COLOR', '', regex=True)\n",
    "df_6['color'] = df_6['color'].str.replace(r'[^a-zA-Z0-9가-힣\\s]', '', regex=True)\n",
    "df_6['color'] = df_6['color'].str.replace(r'\\s+', '', regex=True)\n",
    "df_6['color'] = df_6['color'].str.replace(r'\\d+', '', regex=True)"
   ]
  },
  {
   "cell_type": "code",
   "execution_count": 13,
   "metadata": {},
   "outputs": [],
   "source": [
    "# NaN 값을 'Unknown'으로 대체\n",
    "df_6['color'] = df_6['color'].fillna('Unknown')\n",
    "\n",
    "# 'color' 열에서 각 색상을 포함하는 값들을 변경\n",
    "df_6.loc[df_6['color'].str.contains('블랙|검정|BLK0|BLK|ZBBLACK|블|BK|BLACKBLACK|INK', case=False), 'color'] = 'BLACK'\n",
    "df_6.loc[df_6['color'].str.contains('빨강|레드|빨간', case=False), 'color'] = 'RED'\n",
    "df_6.loc[df_6['color'].str.contains('화이트|흰색|OFFWHITE|GNSWHS|OWHITE|WHWHITE|색상WHT', case=False), 'color'] = 'WHITE'\n",
    "df_6.loc[df_6['color'].str.contains('네이비|남색|DARKNAVY|색상NVY', case=False), 'color'] = 'NAVY'\n",
    "df_6.loc[df_6['color'].str.contains('베이지|LIGHTBEIGE|DARKBEIGE|ECRU', case=False), 'color'] = 'BEIGE'\n",
    "df_6.loc[df_6['color'].str.contains('그레이|회색|LIGHTGREY|DARKGREY|GY|LGREY', case=False), 'color'] = 'GRAY'\n",
    "df_6.loc[df_6['color'].str.contains('블루|파랑|파란|OPENBLUE|SBLUE|BLUESTRIPE', case=False), 'color'] = 'BLUE'\n",
    "df_6.loc[df_6['color'].str.contains('카키|LIGHTKHAKI|FORESTKHAKI', case=False), 'color'] = 'KHAKI'\n",
    "df_6.loc[df_6['color'].str.contains('브라운|갈색|DARKBROWN', case=False), 'color'] = 'BROWN'\n",
    "df_6.loc[df_6['color'].str.contains('초록|녹색|그린|DARKGREEN|연두', case=False), 'color'] = 'GREEN'\n",
    "df_6.loc[df_6['color'].str.contains('핑크|분홍|LIGHTPINK|소라', case=False), 'color'] = 'PINK'\n",
    "df_6.loc[df_6['color'].str.contains('하늘|SKY|LIGHTBLUE|SEA', case=False), 'color'] = 'SKYBLUE'\n",
    "df_6.loc[df_6['color'].str.contains('LIGHTPASTELBLUE', case=False), 'color'] = 'PASTELBLUE'\n",
    "df_6.loc[df_6['color'].str.contains('아이보리', case=False), 'color'] = 'IVORY'\n",
    "df_6.loc[df_6['color'].str.contains('크림', case=False), 'color'] = 'CREAM'\n",
    "df_6.loc[df_6['color'].str.contains('오렌지|DARKORANGE', case=False), 'color'] = 'ORANGE'\n",
    "df_6.loc[df_6['color'].str.contains('차콜', case=False), 'color'] = 'CHARCOAL'\n",
    "df_6.loc[df_6['color'].str.contains('옐로우|노랑|레몬', case=False), 'color'] = 'YELLOW'\n",
    "df_6.loc[df_6['color'].str.contains('올리브', case=False), 'color'] = 'OLIVE'\n",
    "df_6.loc[df_6['color'].str.contains('민트', case=False), 'color'] = 'MINT'\n",
    "df_6.loc[df_6['color'].str.contains('퍼플', case=False), 'color'] = 'PURPLE'\n",
    "df_6.loc[df_6['color'].str.contains('라벤다', case=False), 'color'] = 'LAVENDER'\n",
    "df_6.loc[df_6['color'].str.contains('DARKVANILLA', case=False), 'color'] = 'VANILLA'\n",
    "df_6.loc[df_6['color'].str.contains('카멜', case=False), 'color'] = 'CAMEL'\n",
    "df_6.loc[df_6['color'].str.contains('라임', case=False), 'color'] = 'LIME'\n",
    "df_6.loc[df_6['color'].str.contains('자주|와인', case=False), 'color'] = 'WINE'\n",
    "df_6.loc[df_6['color'].str.contains('버건디', case=False), 'color'] = 'BURGUNDY'\n",
    "\n"
   ]
  },
  {
   "cell_type": "code",
   "execution_count": 14,
   "metadata": {},
   "outputs": [],
   "source": [
    "# 'color' 열의 데이터에 대해 일부 한국어 색상을 영어로 매핑\n",
    "color_mapping = {\n",
    "    \"BLACKWHITE\": 'BLACK,WHITE',\n",
    "    \"WHITEBLACK\": 'BLACK,WHITE',\n",
    "    \"BLCKWHTE\": 'BLACK,WHITE',\n",
    "    \"MELANGEGREY\": \"MELANGE, REY\",\n",
    "    \"BEIGEKHAKI\": \"BEIGE,KHAKI\",\n",
    "    \"BEIGEBLACK\": \"BLACK,BEIGE\",\n",
    "    \"BLACKIVORY\": \"BLACK,IVORY\",\n",
    "    \"IVORYBLACK\": \"BLACK,IVORY\",\n",
    "    \"BLACKCHARCOAL\": \"BLACK,CHARCOAL\",\n",
    "    \"BLACKKHAKI\": \"BLACK,KHAKI\",\n",
    "    \"BLACKBROWN\": 'BLACK,BROWN',\n",
    "    \"BLACKCREAM\": \"BLACK,CREAM\",\n",
    "    \"IVORYBEIGE\": \"IVORY,BEIGE\",\n",
    "    \"BLUEGRAY\": \"BLUE,GRAY\",\n",
    "    \"설명페이지참조\": \"NONE\",\n",
    "    \"멀티컬러\": \"NONE\",\n",
    "    \"STRIPE\": \"NONE\",\n",
    "    \"스트라이프\": \"NONE\",\n",
    "    \"NAVYWHTE입고시기에따라정보가상이할수있어수령하신상품의라벨을참고하시기바랍니다\": \"NAVY,WHITE\",\n",
    "    \"BLCKWHTE입고시기에따라정보가상이할수있어수령하신상품의라벨을참고하시기바랍니다\": 'BLACK,WHITE',\n",
    "    \"NAVYBROWNWINEINDIGOIVORY\": \"NAVY,BROWN,WINE\",\n",
    "}\n",
    "\n",
    "# 'color' 열의 각 원소에 대해 매핑된 값으로 새로운 열 추가\n",
    "df_1 = df_6.copy()  # 새로운 데이터프레임을 만들기 위해 기존 데이터프레임을 복제\n",
    "df_6['color'] = df_6['color'].map(color_mapping).fillna(df_6['color'])\n",
    "\n",
    "df_7 = df_6.copy()\n",
    "\n",
    "threshold = 3  # 임계값 설정\n",
    "\n",
    "# value_counts를 사용하여 각 색상의 빈도수를 계산하고, 개수가 threshold보다 작은 것을 필터링하여 가져옵니다.\n",
    "colors_to_exclude = df_7['color'].value_counts()[df_7['color'].value_counts() <= threshold].index\n",
    "\n",
    "# 'color' 열의 값이 colors_to_exclude에 포함되어 있는 경우에만 'NONE'으로 변경합니다.\n",
    "df_7.loc[df_7['color'].isin(colors_to_exclude), 'color'] = 'NONE'"
   ]
  },
  {
   "cell_type": "markdown",
   "metadata": {},
   "source": [
    "# 최종 확인 단계"
   ]
  },
  {
   "cell_type": "code",
   "execution_count": 26,
   "metadata": {},
   "outputs": [
    {
     "data": {
      "text/plain": [
       "0"
      ]
     },
     "execution_count": 26,
     "metadata": {},
     "output_type": "execute_result"
    }
   ],
   "source": [
    "# df_7의 최종 결측치 체크\n",
    "df_7['material'].isnull().sum()"
   ]
  },
  {
   "cell_type": "code",
   "execution_count": 27,
   "metadata": {},
   "outputs": [
    {
     "data": {
      "text/plain": [
       "POLYESTER 100%                 273\n",
       "COTTON 100%                     93\n",
       "상품  상세설명  참조                    19\n",
       "상세  내  기재                        9\n",
       "겉감  COTTON  100                  8\n",
       "상세페이지참조                          8\n",
       "겉감  :  COTTON 100%  100%.        7\n",
       "COTTON  100                      7\n",
       "코튼  100%                         5\n",
       "COTTON 100%100%                  4\n",
       "나일론  100%                        4\n",
       "POLYESTER 100%  100%  %          4\n",
       "POLYESTER 100%  100%             3\n",
       "100%  Cotton                     3\n",
       "Cotton100%                       3\n",
       "겉감:  COTTON 100%  100%.          3\n",
       "100%  레이온                        3\n",
       "COTTON 100%  67%  나일론  33%       2\n",
       "100%  COTTON                     2\n",
       "COTTON 100%-100%                 2\n",
       "95%  코튼  5%  스판덱스                2\n",
       "COTTON 100%100                   2\n",
       "[겉감]  COTTON 100%:100%           2\n",
       "상세설명참조                           1\n",
       "POLYESTER 100%98%  폴리우레탄2%       1\n",
       "겉감:COTTON 100%65 나일론35           1\n",
       "상품상세설명  참조                       1\n",
       "COTTON 100%  54%   텐셀  46%       1\n",
       "상품상세설명참조                         1\n",
       "POLYESTER 100%  :  100%          1\n",
       "100%  Polyester                  1\n",
       "100%  Tencel                     1\n",
       "리넨  100%                         1\n",
       "[겉감]COTTON 100%100%              1\n",
       "겉감  COTTON 100%100%              1\n",
       "레이온  100%                        1\n",
       "100%  COTTON 100%                1\n",
       "100%  Wool                       1\n",
       "95%  COTTON 100%   5%  스판덱스      1\n",
       "겉감:COTTON 100%100                1\n",
       "코튼100%                           1\n",
       "겉감:  POLYESTER 100%  100%        1\n",
       "상세참고                             1\n",
       "Name: material, dtype: int64"
      ]
     },
     "execution_count": 27,
     "metadata": {},
     "output_type": "execute_result"
    }
   ],
   "source": [
    "# df_7의 최종 밸류 카운트 더블 체크\n",
    "df_7['material'].value_counts()"
   ]
  },
  {
   "cell_type": "code",
   "execution_count": 17,
   "metadata": {},
   "outputs": [
    {
     "name": "stdout",
     "output_type": "stream",
     "text": [
      "\"None\" 값 개수: 0\n",
      "결측치(NA/NaN) 값 개수: 0\n"
     ]
    }
   ],
   "source": [
    "# \"None\" 값 유무 체크\n",
    "none_count = (df_7['thickness'] == \"None\").sum()\n",
    "\n",
    "# 결측치(NA/NaN) 값 개수\n",
    "na_count = df_7['thickness'].isna().sum()\n",
    "\n",
    "# 결과 한눈에 보기\n",
    "print(f'\"None\" 값 개수: {none_count}')\n",
    "print(f'결측치(NA/NaN) 값 개수: {na_count}')"
   ]
  },
  {
   "cell_type": "markdown",
   "metadata": {},
   "source": [
    "# CSV 저장"
   ]
  },
  {
   "cell_type": "code",
   "execution_count": 19,
   "metadata": {},
   "outputs": [],
   "source": [
    "df_7.to_csv('/Users/jaechoi/dev/workspace/csv_folder/240228_v1.csv', index=False, encoding='utf-8-sig')"
   ]
  }
 ],
 "metadata": {
  "kernelspec": {
   "display_name": "base",
   "language": "python",
   "name": "python3"
  },
  "language_info": {
   "codemirror_mode": {
    "name": "ipython",
    "version": 3
   },
   "file_extension": ".py",
   "mimetype": "text/x-python",
   "name": "python",
   "nbconvert_exporter": "python",
   "pygments_lexer": "ipython3",
   "version": "3.10.13"
  }
 },
 "nbformat": 4,
 "nbformat_minor": 2
}
